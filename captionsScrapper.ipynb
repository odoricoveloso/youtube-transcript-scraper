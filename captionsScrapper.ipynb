{
  "nbformat": 4,
  "nbformat_minor": 0,
  "metadata": {
    "colab": {
      "provenance": [],
      "authorship_tag": "ABX9TyMLkCo4zzBlYGINJl3MtE1X",
      "include_colab_link": true
    },
    "kernelspec": {
      "name": "python3",
      "display_name": "Python 3"
    },
    "language_info": {
      "name": "python"
    }
  },
  "cells": [
    {
      "cell_type": "markdown",
      "metadata": {
        "id": "view-in-github",
        "colab_type": "text"
      },
      "source": [
        "<a href=\"https://colab.research.google.com/github/odoricoveloso/youtube-transcript-scraper/blob/master/captionsScrapper.ipynb\" target=\"_parent\"><img src=\"https://colab.research.google.com/assets/colab-badge.svg\" alt=\"Open In Colab\"/></a>"
      ]
    },
    {
      "cell_type": "code",
      "source": [
        "!apt update #&& apt upgrade -y && apt autoremove"
      ],
      "metadata": {
        "id": "HfG4Lh8NkLiU"
      },
      "execution_count": null,
      "outputs": []
    },
    {
      "cell_type": "code",
      "execution_count": null,
      "metadata": {
        "id": "2XMQ3NiuujP5"
      },
      "outputs": [],
      "source": [
        "#@markdown <center><img src=\"https://upload.wikimedia.org/wikipedia/commons/thumb/9/9f/Selenium_logo.svg/512px-Selenium_logo.svg.png\" height=\"50\" alt=\"Selenium-logo' \"/></center>\n",
        "#@markdown <center><h3>Pre-requisites install</h3></center><br>\n",
        "!apt install chromium-chromedriver\n",
        "!pip install selenium\n",
        "!apt remove urllib3\n",
        "!pip install urllib3==1.25.11\n",
        "!pip install datetime\n",
        "!pip install pytz\n",
        "!pip install logging"
      ]
    },
    {
      "cell_type": "code",
      "execution_count": null,
      "metadata": {
        "id": "RWSJpsyKqHjH"
      },
      "outputs": [],
      "source": [
        "#@markdown <center><img src=\"https://upload.wikimedia.org/wikipedia/commons/thumb/d/da/Google_Drive_logo.png/600px-Google_Drive_logo.png\" height=\"50\" alt=\"Gdrive-logo' \"/></center>\n",
        "#@markdown <center><h3>Mount Google Drive</h3></center><br>\n",
        "from google.colab import drive\n",
        "drive.mount('/content/drive')"
      ]
    },
    {
      "cell_type": "code",
      "source": [
        "#@markdown <br><center><img src=\"https://img.icons8.com/emoji/192/open-file-folder-emoji.png\" height=\"50\" alt=\"Folder-logo' \"/></center>\n",
        "#@markdown <center><h3>Create project folder</h3></center><br>\n",
        "import os\n",
        "os.chdir('/content/drive/MyDrive')\n",
        "directory = input(\"Enter folder name: \")\n",
        "parent_dir = '/content/drive/MyDrive'\n",
        "path = os.path.join(parent_dir, directory)\n",
        "\n",
        "# create project folder\n",
        "if not os.path.exists(path):\n",
        "  os.mkdir(path)\n",
        "  print('Directory \"%s\" created' %directory)\n",
        "else:\n",
        "  print('Directory \"%s\" already exists' %directory)\n",
        "\n",
        "# create folder \"subtitles\"\n",
        "os.chdir('/content/drive/MyDrive/' + directory)\n",
        "if not os.path.exists('subtitles'):\n",
        "  os.mkdir('subtitles')\n",
        "  print('Directory \"subtitles\" created')\n",
        "else:\n",
        "  print('Directory \"subtitles\" already exists')"
      ],
      "metadata": {
        "id": "It8MWm0n2Boe"
      },
      "execution_count": null,
      "outputs": []
    },
    {
      "cell_type": "code",
      "source": [
        "#@markdown <br><center><img src=\"https://img.icons8.com/officel/160/new-by-copy--v2.png\" height=\"50\" alt=\"File-logo' \"/></center>\n",
        "#@markdown <center><h3>Import csv file to project folder</h3></center><br>\n",
        "os.chdir('/content/drive/MyDrive/' + directory)\n",
        "from google.colab import files\n",
        "uploaded = files.upload()"
      ],
      "metadata": {
        "id": "v5VNX3Nihras"
      },
      "execution_count": null,
      "outputs": []
    },
    {
      "cell_type": "markdown",
      "source": [
        "#<br><center><img src=\"https://img.icons8.com/officel/160/new-by-copy--v2.png\" height=\"50\" alt=\"File-logo' \"/></center>\n",
        "#<center><h3>JavaScript to keep Colab running</h3></center><br>\n",
        "Colar o código abaixo no console do navegador (Ctrl + Shift + i) para iniciar a função:\n",
        "```\n",
        "var startClickConnect = function startClickConnect(){\n",
        "    var clickConnect = function clickConnect(){\n",
        "        console.log(\"Connnect Clicked - Start\");\n",
        "        document.querySelector(\"#top-toolbar > colab-connect-button\").shadowRoot.querySelector(\"#connect\").click();\n",
        "        console.log(\"Connnect Clicked - End\"); \n",
        "    };\n",
        "\n",
        "    var intervalId = setInterval(clickConnect, 60000);\n",
        "\n",
        "    var stopClickConnectHandler = function stopClickConnect() {\n",
        "        console.log(\"Connnect Clicked Stopped - Start\");\n",
        "        clearInterval(intervalId);\n",
        "        console.log(\"Connnect Clicked Stopped - End\");\n",
        "    };\n",
        "\n",
        "    return stopClickConnectHandler;\n",
        "};\n",
        "\n",
        "var stopClickConnect = startClickConnect();\n",
        "```\n",
        "Colar o código abaixo no console do navegador (Ctrl + Shift + i) para parar a função:\n",
        "```\n",
        "stopClickConnect();\n",
        "```\n",
        "\n",
        "\n",
        "\n"
      ],
      "metadata": {
        "id": "29x9STL-ZzUq"
      }
    },
    {
      "cell_type": "code",
      "source": [
        "#@markdown <br><center><img src=\"https://img.icons8.com/external-filled-color-icons-papa-vector/156/external-Data-Mining-data-mining-and-big-data.-color.-concept-filled-color-icons-papa-vector.png\" height=\"50\" alt=\"Scrapy-logo' \"/></center>\n",
        "#@markdown <center><h3>Let's Scrapy!</h3></center><br>\n",
        "# modify these values\n",
        "filename = next(iter(uploaded)) # filname with video ids\n",
        "colname = 'videoId'             # column storing video ids\n",
        "delimiter = ','\t\t\t\t\t\t\t\t\t# delimiter, e.g. ',' for CSV or '\\t' for TAB\n",
        "waittime = 5\t\t\t\t\t\t\t\t\t\t# seconds browser waits before giving up\n",
        "sleeptime = [2,5]\t\t\t\t\t\t\t\t# random seconds range before loading next video id\n",
        "\n",
        "#do not modify below\n",
        "from time import sleep\n",
        "import csv\n",
        "import random\n",
        "import os.path\n",
        "from datetime import datetime\n",
        "import pytz\n",
        "import logging\n",
        "from selenium import webdriver\n",
        "from selenium.webdriver.chrome.options import Options\n",
        "from selenium.webdriver.common.by import By\n",
        "from selenium.common.exceptions import TimeoutException\n",
        "from selenium.webdriver.support.ui import WebDriverWait\n",
        "from selenium.webdriver.support import expected_conditions as EC\n",
        "\n",
        "\n",
        "def gettranscript(videoid):\n",
        "\n",
        "\t# check if transcript file already exists\t\n",
        "\twritefilename = path + '/subtitles/transcript_' + videoid + '.txt'\n",
        "\tif os.path.isfile(writefilename):\n",
        "\t\tmsg = 'transcript file already exists'\n",
        "\t\treturn msg\n",
        "\n",
        "\tsleep(random.uniform(sleeptime[0],sleeptime[1]))\n",
        "\n",
        "\toptions = Options()\n",
        "\toptions.add_argument(\"--headless\")\n",
        "\toptions.add_argument('--no-sandbox')\n",
        "\toptions.add_argument('--disable-dev-shm-usage')\n",
        "\n",
        "\t# Create a new instance of the Firefox driver\n",
        "\tdriver = webdriver.Chrome('chromedriver',options=options)\n",
        "\n",
        "\t# navigate to video\n",
        "\tdriver.get(\"https://www.youtube.com/watch?v=\"+videoid)\n",
        "\n",
        "\ttry:\n",
        "\t\telement = WebDriverWait(driver, waittime).until(EC.presence_of_element_located((By.XPATH, '//*[@id=\"button-shape\"]/button/yt-touch-feedback-shape/div/div[2]')))\n",
        "\texcept:\n",
        "\t\tmsg = 'could not find options button'\n",
        "\t\tdriver.quit()\n",
        "\t\treturn msg\n",
        "\n",
        "\ttry:\n",
        "\t\telement.click()\n",
        "\texcept:\n",
        "\t\tmsg = 'could not click'\n",
        "\t\tdriver.quit()\n",
        "\t\treturn msg\n",
        "\n",
        "\ttry:\n",
        "\t\telement = WebDriverWait(driver, waittime).until(EC.presence_of_element_located((By.XPATH, '//*[@id=\"items\"]/ytd-menu-service-item-renderer[2]/tp-yt-paper-item/yt-formatted-string')))\n",
        "\texcept:\n",
        "\t\tmsg = 'could not find transcript in options menu'\n",
        "\t\tdriver.quit()\n",
        "\t\treturn msg\n",
        "\n",
        "\ttry:\n",
        "\t\telement.click()\n",
        "\texcept:\n",
        "\t\tmsg = 'could not click'\n",
        "\t\tdriver.quit()\n",
        "\t\treturn msg\n",
        "\n",
        "\ttry:\n",
        "\t\telement = WebDriverWait(driver, waittime).until(EC.presence_of_element_located((By.ID, \"segments-container\")))\n",
        "\texcept:\n",
        "\t\tmsg = 'could not find transcript text'\n",
        "\t\tdriver.quit()\n",
        "\t\treturn msg\n",
        "\n",
        "\t# print(element.text)\n",
        "\n",
        "\tfile = open(writefilename,\"w\")\n",
        "\tfile.write(element.text)\n",
        "\tfile.close() \n",
        "\n",
        "\tdriver.quit()\n",
        "\n",
        "\treturn 'ok'\n",
        "\n",
        "# datetime function\n",
        "datetimesp = datetime.now(pytz.timezone('America/Sao_Paulo'))\n",
        "dt = datetimesp.strftime('%d/%m/%Y %H:%M')\n",
        "\n",
        "# logging function\n",
        "log_format = '%(message)s'\n",
        "logging.basicConfig(filename='captions.log',\n",
        "                    # w -> sobrescreve o arquivo a cada log\n",
        "                    # a -> não sobrescreve o arquivo\n",
        "                    filemode='a',\n",
        "                    level=logging.INFO,\n",
        "                    format=log_format)\n",
        "logger = logging.getLogger('root')\n",
        "\n",
        "# read CSV file\n",
        "csvread = open(filename, newline='\\n')\n",
        "csvreader = csv.DictReader(csvread, delimiter=delimiter, quoting=csv.QUOTE_NONE)\n",
        "rowcount = len(open(filename).readlines())\n",
        "\n",
        "for row in csvreader:\n",
        "\tmsg = gettranscript(row[colname])\n",
        "\tlogger.info(f'{dt} | {str(rowcount)} | {row[colname]} | {msg}')\n",
        "\trowcount -= 1\n",
        "\tprint(dt + \" | \" + str(rowcount) + \" | \" + row[colname] + \" | \" + msg)\n",
        " \n",
        "\n"
      ],
      "metadata": {
        "id": "Dmw6SPoQulLF"
      },
      "execution_count": null,
      "outputs": []
    }
  ]
}